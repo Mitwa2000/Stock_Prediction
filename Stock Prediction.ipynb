{
 "cells": [
  {
   "cell_type": "code",
   "execution_count": 1,
   "id": "ffd99bc0",
   "metadata": {},
   "outputs": [],
   "source": [
    "import quandl"
   ]
  },
  {
   "cell_type": "code",
   "execution_count": 2,
   "id": "06e92ac3",
   "metadata": {},
   "outputs": [],
   "source": [
    "import pandas as pd\n",
    "import numpy as np\n",
    "import os\n",
    "import matplotlib.pyplot as plt\n"
   ]
  },
  {
   "cell_type": "markdown",
   "id": "4f7e0f76",
   "metadata": {},
   "source": [
    "Reading The data \n"
   ]
  },
  {
   "cell_type": "code",
   "execution_count": 3,
   "id": "541011c4",
   "metadata": {},
   "outputs": [],
   "source": [
    "df=pd.read_csv('MSFT.csv') #load the file \n"
   ]
  },
  {
   "cell_type": "code",
   "execution_count": 4,
   "id": "ce9b5819",
   "metadata": {},
   "outputs": [
    {
     "data": {
      "text/html": [
       "<div>\n",
       "<style scoped>\n",
       "    .dataframe tbody tr th:only-of-type {\n",
       "        vertical-align: middle;\n",
       "    }\n",
       "\n",
       "    .dataframe tbody tr th {\n",
       "        vertical-align: top;\n",
       "    }\n",
       "\n",
       "    .dataframe thead th {\n",
       "        text-align: right;\n",
       "    }\n",
       "</style>\n",
       "<table border=\"1\" class=\"dataframe\">\n",
       "  <thead>\n",
       "    <tr style=\"text-align: right;\">\n",
       "      <th></th>\n",
       "      <th>Date</th>\n",
       "      <th>Open</th>\n",
       "      <th>High</th>\n",
       "      <th>Low</th>\n",
       "      <th>Close</th>\n",
       "      <th>Adj Close</th>\n",
       "      <th>Volume</th>\n",
       "    </tr>\n",
       "  </thead>\n",
       "  <tbody>\n",
       "    <tr>\n",
       "      <th>0</th>\n",
       "      <td>2023-02-13</td>\n",
       "      <td>267.640015</td>\n",
       "      <td>274.600006</td>\n",
       "      <td>267.149994</td>\n",
       "      <td>271.320007</td>\n",
       "      <td>268.935364</td>\n",
       "      <td>44630900</td>\n",
       "    </tr>\n",
       "    <tr>\n",
       "      <th>1</th>\n",
       "      <td>2023-02-14</td>\n",
       "      <td>272.670013</td>\n",
       "      <td>274.970001</td>\n",
       "      <td>269.279999</td>\n",
       "      <td>272.170013</td>\n",
       "      <td>269.777924</td>\n",
       "      <td>37047900</td>\n",
       "    </tr>\n",
       "    <tr>\n",
       "      <th>2</th>\n",
       "      <td>2023-02-15</td>\n",
       "      <td>268.320007</td>\n",
       "      <td>270.730011</td>\n",
       "      <td>266.179993</td>\n",
       "      <td>269.320007</td>\n",
       "      <td>267.621613</td>\n",
       "      <td>28922400</td>\n",
       "    </tr>\n",
       "    <tr>\n",
       "      <th>3</th>\n",
       "      <td>2023-02-16</td>\n",
       "      <td>264.019989</td>\n",
       "      <td>266.739990</td>\n",
       "      <td>261.899994</td>\n",
       "      <td>262.149994</td>\n",
       "      <td>260.496796</td>\n",
       "      <td>29603600</td>\n",
       "    </tr>\n",
       "    <tr>\n",
       "      <th>4</th>\n",
       "      <td>2023-02-17</td>\n",
       "      <td>259.390015</td>\n",
       "      <td>260.089996</td>\n",
       "      <td>256.000000</td>\n",
       "      <td>258.059998</td>\n",
       "      <td>256.432587</td>\n",
       "      <td>30000100</td>\n",
       "    </tr>\n",
       "  </tbody>\n",
       "</table>\n",
       "</div>"
      ],
      "text/plain": [
       "         Date        Open        High         Low       Close   Adj Close  \\\n",
       "0  2023-02-13  267.640015  274.600006  267.149994  271.320007  268.935364   \n",
       "1  2023-02-14  272.670013  274.970001  269.279999  272.170013  269.777924   \n",
       "2  2023-02-15  268.320007  270.730011  266.179993  269.320007  267.621613   \n",
       "3  2023-02-16  264.019989  266.739990  261.899994  262.149994  260.496796   \n",
       "4  2023-02-17  259.390015  260.089996  256.000000  258.059998  256.432587   \n",
       "\n",
       "     Volume  \n",
       "0  44630900  \n",
       "1  37047900  \n",
       "2  28922400  \n",
       "3  29603600  \n",
       "4  30000100  "
      ]
     },
     "execution_count": 4,
     "metadata": {},
     "output_type": "execute_result"
    }
   ],
   "source": [
    "df.head()"
   ]
  },
  {
   "cell_type": "code",
   "execution_count": 5,
   "id": "b30e94ee",
   "metadata": {},
   "outputs": [
    {
     "name": "stdout",
     "output_type": "stream",
     "text": [
      "rows 250 columns 7\n"
     ]
    }
   ],
   "source": [
    "#shape of our data set i.e number of rows and columns\n",
    "print(\"rows\",df.shape[0],\"columns\",df.shape[1])"
   ]
  },
  {
   "cell_type": "code",
   "execution_count": 6,
   "id": "cfda53a7",
   "metadata": {},
   "outputs": [
    {
     "name": "stdout",
     "output_type": "stream",
     "text": [
      "<class 'pandas.core.frame.DataFrame'>\n",
      "RangeIndex: 250 entries, 0 to 249\n",
      "Data columns (total 7 columns):\n",
      " #   Column     Non-Null Count  Dtype  \n",
      "---  ------     --------------  -----  \n",
      " 0   Date       250 non-null    object \n",
      " 1   Open       250 non-null    float64\n",
      " 2   High       250 non-null    float64\n",
      " 3   Low        250 non-null    float64\n",
      " 4   Close      250 non-null    float64\n",
      " 5   Adj Close  250 non-null    float64\n",
      " 6   Volume     250 non-null    int64  \n",
      "dtypes: float64(5), int64(1), object(1)\n",
      "memory usage: 13.8+ KB\n"
     ]
    }
   ],
   "source": [
    " # getting information about the dataset\n",
    "df.info()"
   ]
  },
  {
   "cell_type": "code",
   "execution_count": 7,
   "id": "51cd74fb",
   "metadata": {},
   "outputs": [
    {
     "data": {
      "text/plain": [
       "Date         0\n",
       "Open         0\n",
       "High         0\n",
       "Low          0\n",
       "Close        0\n",
       "Adj Close    0\n",
       "Volume       0\n",
       "dtype: int64"
      ]
     },
     "execution_count": 7,
     "metadata": {},
     "output_type": "execute_result"
    }
   ],
   "source": [
    "#checking the null values\n",
    "df.isnull().sum()"
   ]
  },
  {
   "cell_type": "code",
   "execution_count": 8,
   "id": "505ceec2",
   "metadata": {},
   "outputs": [
    {
     "data": {
      "text/plain": [
       "(250, 7)"
      ]
     },
     "execution_count": 8,
     "metadata": {},
     "output_type": "execute_result"
    }
   ],
   "source": [
    "#droping dulicated values\n",
    "  \n",
    "df=df.drop_duplicates()\n",
    "df.shape"
   ]
  },
  {
   "cell_type": "code",
   "execution_count": 9,
   "id": "f236d300",
   "metadata": {},
   "outputs": [],
   "source": [
    "df['Date']=pd.to_datetime(df.Date) #cconvert to date object\n"
   ]
  },
  {
   "cell_type": "code",
   "execution_count": 10,
   "id": "7874715f",
   "metadata": {},
   "outputs": [
    {
     "name": "stdout",
     "output_type": "stream",
     "text": [
      "<class 'pandas.core.frame.DataFrame'>\n",
      "RangeIndex: 250 entries, 0 to 249\n",
      "Data columns (total 7 columns):\n",
      " #   Column     Non-Null Count  Dtype         \n",
      "---  ------     --------------  -----         \n",
      " 0   Date       250 non-null    datetime64[ns]\n",
      " 1   Open       250 non-null    float64       \n",
      " 2   High       250 non-null    float64       \n",
      " 3   Low        250 non-null    float64       \n",
      " 4   Close      250 non-null    float64       \n",
      " 5   Adj Close  250 non-null    float64       \n",
      " 6   Volume     250 non-null    int64         \n",
      "dtypes: datetime64[ns](1), float64(5), int64(1)\n",
      "memory usage: 13.8 KB\n"
     ]
    }
   ],
   "source": [
    "df.head()\n",
    "df.info()"
   ]
  },
  {
   "cell_type": "markdown",
   "id": "6c0925ab",
   "metadata": {},
   "source": [
    "### Plotting the data"
   ]
  },
  {
   "cell_type": "code",
   "execution_count": null,
   "id": "75607c42",
   "metadata": {},
   "outputs": [],
   "source": [
    "import seaborn as sns"
   ]
  },
  {
   "cell_type": "code",
   "execution_count": null,
   "id": "73608dd6",
   "metadata": {},
   "outputs": [],
   "source": [
    "sns.countplot(df['Close'])"
   ]
  },
  {
   "cell_type": "code",
   "execution_count": null,
   "id": "63d74ae8",
   "metadata": {},
   "outputs": [],
   "source": [
    "x=df[['Open','High','Low','Volume']]\n",
    "y=df['Close']"
   ]
  },
  {
   "cell_type": "code",
   "execution_count": null,
   "id": "03806f55",
   "metadata": {},
   "outputs": [],
   "source": [
    "df.head()"
   ]
  },
  {
   "cell_type": "markdown",
   "id": "6ac8a99a",
   "metadata": {},
   "source": [
    "### Train test and splitting"
   ]
  },
  {
   "cell_type": "code",
   "execution_count": null,
   "id": "df6a5ad0",
   "metadata": {},
   "outputs": [],
   "source": [
    "from sklearn.model_selection import train_test_split\n",
    "x_train,x_test,y_train,y_test =train_test_split(x,y,test_size=0.20,random_state=42)"
   ]
  },
  {
   "cell_type": "code",
   "execution_count": null,
   "id": "afda14d6",
   "metadata": {},
   "outputs": [],
   "source": [
    "from sklearn.linear_model import LinearRegression\n",
    "from sklearn.metrics import confusion_matrix,accuracy_score\n",
    "log=LinearRegression()"
   ]
  },
  {
   "cell_type": "code",
   "execution_count": null,
   "id": "9a158607",
   "metadata": {},
   "outputs": [],
   "source": [
    "log.fit(x_train,y_train)"
   ]
  },
  {
   "cell_type": "code",
   "execution_count": null,
   "id": "212fdc6b",
   "metadata": {},
   "outputs": [],
   "source": [
    "print(log.coef_)\n",
    "print(log.intercept_)\n"
   ]
  },
  {
   "cell_type": "code",
   "execution_count": null,
   "id": "7997bcc6",
   "metadata": {},
   "outputs": [],
   "source": [
    "y_pred1=log.predict(x_test)"
   ]
  },
  {
   "cell_type": "code",
   "execution_count": null,
   "id": "2fdd2d8c",
   "metadata": {},
   "outputs": [],
   "source": [
    "y_pred1.shape"
   ]
  },
  {
   "cell_type": "code",
   "execution_count": null,
   "id": "950360df",
   "metadata": {},
   "outputs": [],
   "source": [
    "dframe=pd.DataFrame(y_test,y_pred1)"
   ]
  },
  {
   "cell_type": "code",
   "execution_count": null,
   "id": "feacc0e2",
   "metadata": {},
   "outputs": [],
   "source": [
    "df=pd.DataFrame({'Actual Price':y_test,'Predicted Price':y_pred1})\n",
    "print(df)"
   ]
  },
  {
   "cell_type": "code",
   "execution_count": null,
   "id": "1a071198",
   "metadata": {},
   "outputs": [],
   "source": [
    "from sklearn.metrics import accuracy_score,confusion_matrix,precision_score,recall_score,f1_score"
   ]
  },
  {
   "cell_type": "code",
   "execution_count": null,
   "id": "c42c6662",
   "metadata": {},
   "outputs": [],
   "source": [
    "log.score(x_test,y_test)"
   ]
  },
  {
   "cell_type": "code",
   "execution_count": null,
   "id": "61936062",
   "metadata": {},
   "outputs": [],
   "source": [
    "import math\n",
    "from sklearn import metrics\n"
   ]
  },
  {
   "cell_type": "code",
   "execution_count": null,
   "id": "fa91ce90",
   "metadata": {},
   "outputs": [],
   "source": [
    "print(\"The Mean absolute error:\",metrics.mean_absolute_error(y_test,y_pred1))\n"
   ]
  },
  {
   "cell_type": "code",
   "execution_count": null,
   "id": "5c7ddcbf",
   "metadata": {},
   "outputs": [],
   "source": [
    "print(\"Root mean squared error\",math.sqrt(metrics.mean_squared_error(y_test,y_pred1)))\n"
   ]
  },
  {
   "cell_type": "code",
   "execution_count": null,
   "id": "e77bf118",
   "metadata": {},
   "outputs": [],
   "source": [
    "graph=df.head(10)\n"
   ]
  },
  {
   "cell_type": "code",
   "execution_count": null,
   "id": "31bd053c",
   "metadata": {},
   "outputs": [],
   "source": [
    "graph.plot(kind='bar')\n"
   ]
  }
 ],
 "metadata": {
  "kernelspec": {
   "display_name": "Python 3 (ipykernel)",
   "language": "python",
   "name": "python3"
  },
  "language_info": {
   "codemirror_mode": {
    "name": "ipython",
    "version": 3
   },
   "file_extension": ".py",
   "mimetype": "text/x-python",
   "name": "python",
   "nbconvert_exporter": "python",
   "pygments_lexer": "ipython3",
   "version": "3.11.5"
  }
 },
 "nbformat": 4,
 "nbformat_minor": 5
}
